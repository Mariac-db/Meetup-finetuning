{
 "cells": [
  {
   "cell_type": "code",
   "execution_count": 1,
   "metadata": {},
   "outputs": [
    {
     "name": "stderr",
     "output_type": "stream",
     "text": [
      "c:\\Users\\mdurango\\AppData\\Local\\anaconda3\\envs\\DL\\lib\\site-packages\\tqdm\\auto.py:21: TqdmWarning: IProgress not found. Please update jupyter and ipywidgets. See https://ipywidgets.readthedocs.io/en/stable/user_install.html\n",
      "  from .autonotebook import tqdm as notebook_tqdm\n"
     ]
    }
   ],
   "source": [
    "from datasets import load_dataset # pip install datasets\n",
    "from pathlib import Path\n",
    "from collections import Counter\n",
    "from datasets import Dataset, DatasetDict\n",
    "import numpy as np\n",
    "import jsonlines #pip install jsonlines\n",
    "from transformers import Trainer, TrainingArguments, EarlyStoppingCallback\n",
    "import scikitplot as skplt\n",
    "import matplotlib.pyplot as plt\n",
    "import sklearn_crfsuite\n",
    "from sklearn_crfsuite import metrics\n",
    "import ast\n",
    "import evaluate\n",
    "from nervaluate import Evaluator\n",
    "import pandas as pd\n",
    "import plotly.graph_objects as go\n",
    "from transformers import DataCollatorWithPadding\n",
    "import seqeval.metrics as seqeval\n",
    "from pynvml import *\n",
    "import torch\n",
    "from transformers import AutoTokenizer, AutoModelForTokenClassification\n",
    "import warnings\n",
    "warnings.filterwarnings(\"ignore\")"
   ]
  },
  {
   "attachments": {},
   "cell_type": "markdown",
   "metadata": {},
   "source": [
    "### 🔓 Decode labels y formato BIO"
   ]
  },
  {
   "cell_type": "code",
   "execution_count": 2,
   "metadata": {},
   "outputs": [],
   "source": [
    "\n",
    "data_dir =  Path(\"D:/Users/MDurango/OneDrive - Materialise NV/Materialise Git/Cardiac segmentation Unet2D/FastAPI/Finetuning-NER\")\n",
    "train_path = data_dir / \"training_anns_bio.csv\"\n",
    "test_path = data_dir / \"testing_anns_bio.json\"\n",
    "val_path = data_dir / \"development_anns_bio.json\"\n",
    "\n",
    "# training dataset\n",
    "train_data = pd.read_csv(train_path, delimiter= \"\\t\", header=None, names=['labels', 'tokens'])\n",
    "labels_train = []\n",
    "sentences_train= []\n",
    "\n",
    "for labels, sentences in zip(train_data[\"labels\"], train_data[\"tokens\"]):\n",
    "    labels_train.append(ast.literal_eval(labels))\n",
    "    sentences_train.append(ast.literal_eval(sentences))\n",
    "\n",
    "# test dataset \n",
    "with jsonlines.open(test_path) as f:\n",
    "    test_data = list(f)\n",
    "\n",
    "labels_test = [obj[\"ner_tags\"] for obj in test_data]\n",
    "sentences_test = [obj[\"tokens\"] for obj in test_data]\n",
    "\n",
    "# validation dataset\n",
    "with jsonlines.open(val_path) as f:\n",
    "    val_data = list(f)\n",
    "\n",
    "labels_val = [obj[\"ner_tags\"] for obj in val_data]\n",
    "sentences_val = [obj[\"tokens\"] for obj in val_data]\n"
   ]
  },
  {
   "cell_type": "code",
   "execution_count": 3,
   "metadata": {},
   "outputs": [],
   "source": [
    "\n",
    "def count_labels(labels):\n",
    "    flattened_labels = [label for sublist in labels for label in sublist]\n",
    "    return Counter(flattened_labels)\n",
    "\n",
    "\n"
   ]
  },
  {
   "cell_type": "code",
   "execution_count": 4,
   "metadata": {},
   "outputs": [
    {
     "name": "stdout",
     "output_type": "stream",
     "text": [
      "Labels en validación:  Counter({'O': 1841, 'B-Concept': 797, 'B-Action': 340, 'I-Concept': 205, 'B-Predicate': 124, 'B-Reference': 44, 'I-Predicate': 5, 'I-Action': 4})\n",
      "Labels en test:  Counter({'O': 811, 'B-Concept': 377, 'B-Action': 121, 'I-Concept': 85, 'B-Predicate': 49, 'B-Reference': 9, 'I-Predicate': 8, 'I-Action': 3})\n",
      "Labels en train:  Counter({'O': 7119, 'B-Concept': 3104, 'B-Action': 1319, 'I-Concept': 749, 'B-Predicate': 412, 'B-Reference': 169, 'I-Predicate': 20, 'I-Action': 10})\n"
     ]
    }
   ],
   "source": [
    "print(\"Labels en validación: \", count_labels(labels_val))\n",
    "print(\"Labels en test: \", count_labels(labels_test))\n",
    "print(\"Labels en train: \", count_labels(labels_train))"
   ]
  },
  {
   "cell_type": "code",
   "execution_count": 5,
   "metadata": {},
   "outputs": [],
   "source": [
    "# label encoding\n",
    "\n",
    "# ent_label: type of entity (Concept, Action, Predicate or Reference)\n",
    "\n",
    "idx2label = {\n",
    "    0: \"O\",\n",
    "    1: \"B-Concept\", \n",
    "    2: \"I-Concept\", \n",
    "    3: \"B-Action\", \n",
    "    4: \"I-Action\", \n",
    "    5: \"B-Predicate\", \n",
    "    6: \"I-Predicate\",\n",
    "    7: \"B-Reference\"\n",
    "\n",
    "}\n",
    "label2idx = {v: k for k, v in idx2label.items()}"
   ]
  },
  {
   "cell_type": "code",
   "execution_count": 6,
   "metadata": {},
   "outputs": [
    {
     "data": {
      "text/plain": [
       "{'O': 0,\n",
       " 'B-Concept': 1,\n",
       " 'I-Concept': 2,\n",
       " 'B-Action': 3,\n",
       " 'I-Action': 4,\n",
       " 'B-Predicate': 5,\n",
       " 'I-Predicate': 6,\n",
       " 'B-Reference': 7}"
      ]
     },
     "execution_count": 6,
     "metadata": {},
     "output_type": "execute_result"
    }
   ],
   "source": [
    "label2idx\n"
   ]
  },
  {
   "cell_type": "code",
   "execution_count": 7,
   "metadata": {},
   "outputs": [
    {
     "name": "stdout",
     "output_type": "stream",
     "text": [
      "['O', 'O', 'B-Concept', 'I-Concept', 'I-Concept', 'O', 'O', 'O', 'B-Concept', 'O', 'O', 'O', 'O', 'B-Concept', 'I-Concept', 'O']\n",
      "Número de labels 16\n",
      "['en', 'la', 'leucemia', 'linfocítica', 'crónica', ',', 'hay', 'demasiados', 'linfocitos', ',', 'un', 'tipo', 'de', 'glóbulos', 'blancos', '.']\n",
      "Número de tokens 16\n",
      "['B-Reference', 'O', 'O', 'O', 'B-Predicate', 'O', 'B-Concept', 'O', 'O', 'O', 'O', 'B-Concept', 'O', 'O', 'B-Action', 'B-Concept', 'O', 'O', 'O', 'B-Concept', 'O', 'O', 'B-Concept', 'O', 'O', 'O']\n",
      "Número de labels 26\n",
      "['los', 'que', 'se', 'encuentran', 'dentro', 'del', 'cuerpo', 'pueden', 'quizá', 'no', 'ser', 'obvios', 'y', 'pueden', 'lesionar', 'órganos', ',', 'incluso', 'el', 'cerebro', ',', 'los', 'pulmones', 'y', 'otros', '.']\n",
      "Número de tokens 26\n",
      "['O', 'O', 'B-Concept', 'O', 'B-Predicate', 'B-Concept', 'O', 'B-Predicate', 'O', 'B-Predicate', 'O', 'B-Action', 'B-Predicate', 'B-Concept', 'B-Action', 'O', 'B-Concept', 'O']\n",
      "Número de labels 18\n",
      "['todas', 'las', 'personas', 'de', 'seis', 'meses', 'de', 'edad', 'o', 'mayores', 'deben', 'vacunarse', 'cada', 'temporada', 'contra', 'la', 'gripe', '.']\n",
      "Número de tokens 18\n"
     ]
    }
   ],
   "source": [
    "# muestra de tokens en sentencia con sus respectivas labels\n",
    "# num labels = num tokens en dicha sentencia\n",
    "\n",
    "print(labels_train[0])\n",
    "print(f\"Número de labels {len(labels_train[0])}\")\n",
    "print(sentences_train[0])\n",
    "print(f\"Número de tokens {len(sentences_train[0])}\")\n",
    "\n",
    "print(labels_val[0])\n",
    "print(f\"Número de labels {len(labels_val[0])}\")\n",
    "print(sentences_val[0])\n",
    "print(f\"Número de tokens {len(sentences_val[0])}\")\n",
    "\n",
    "print(labels_test[0])\n",
    "print(f\"Número de labels {len(labels_test[0])}\")\n",
    "print(sentences_test[0])\n",
    "print(f\"Número de tokens {len(sentences_test[0])}\")\n",
    "\n",
    "\n",
    "\n"
   ]
  },
  {
   "attachments": {},
   "cell_type": "markdown",
   "metadata": {},
   "source": [
    "Creación del dataset:"
   ]
  },
  {
   "cell_type": "code",
   "execution_count": 8,
   "metadata": {},
   "outputs": [],
   "source": [
    "train_dataset = Dataset.from_dict(\n",
    "    {\n",
    "        \"inputs\": sentences_train,\n",
    "        \"output\": labels_train\n",
    "    }\n",
    ")\n",
    "\n",
    "test_dataset = Dataset.from_dict(\n",
    "    {\n",
    "        \"inputs\": sentences_test,\n",
    "        \"output\": labels_test\n",
    "    }\n",
    ")\n",
    "\n",
    "val_dataset = Dataset.from_dict(\n",
    "    {\n",
    "        \"inputs\": sentences_val,\n",
    "        \"output\": labels_val\n",
    "    }\n",
    ")\n",
    "\n",
    "train_test_valid_dataset = DatasetDict({\n",
    "    \"train\": train_dataset,\n",
    "    \"test\": test_dataset, \n",
    "    \"validation\": val_dataset,\n",
    "})\n"
   ]
  },
  {
   "cell_type": "code",
   "execution_count": 9,
   "metadata": {},
   "outputs": [
    {
     "data": {
      "text/plain": [
       "DatasetDict({\n",
       "    train: Dataset({\n",
       "        features: ['inputs', 'output'],\n",
       "        num_rows: 800\n",
       "    })\n",
       "    test: Dataset({\n",
       "        features: ['inputs', 'output'],\n",
       "        num_rows: 100\n",
       "    })\n",
       "    validation: Dataset({\n",
       "        features: ['inputs', 'output'],\n",
       "        num_rows: 199\n",
       "    })\n",
       "})"
      ]
     },
     "execution_count": 9,
     "metadata": {},
     "output_type": "execute_result"
    }
   ],
   "source": [
    "train_test_valid_dataset"
   ]
  },
  {
   "attachments": {},
   "cell_type": "markdown",
   "metadata": {},
   "source": [
    "### Config model"
   ]
  },
  {
   "cell_type": "code",
   "execution_count": 10,
   "metadata": {},
   "outputs": [
    {
     "name": "stdout",
     "output_type": "stream",
     "text": [
      "Device: cuda\n"
     ]
    }
   ],
   "source": [
    "\n",
    "if torch.cuda.is_available():\n",
    "    device = torch.device('cuda')\n",
    "else:\n",
    "    device = torch.device('cpu')\n",
    "\n",
    "print('Device:', device)"
   ]
  },
  {
   "cell_type": "code",
   "execution_count": 11,
   "metadata": {},
   "outputs": [],
   "source": [
    "num_labels = len(idx2label)\n",
    "model_name = \"PlanTL-GOB-ES/bsc-bio-ehr-es-cantemist\" # name model from hugging face\n",
    "# PlanTL-GOB-ES/bsc-bio-ehr-es-cantemist\n",
    "# \"bert-base-uncased\"\n",
    "tokenizer = AutoTokenizer.from_pretrained(model_name)"
   ]
  },
  {
   "cell_type": "code",
   "execution_count": 12,
   "metadata": {},
   "outputs": [
    {
     "name": "stderr",
     "output_type": "stream",
     "text": [
      "Some weights of RobertaForTokenClassification were not initialized from the model checkpoint at PlanTL-GOB-ES/bsc-bio-ehr-es-cantemist and are newly initialized because the shapes did not match:\n",
      "- classifier.weight: found shape torch.Size([3, 768]) in the checkpoint and torch.Size([8, 768]) in the model instantiated\n",
      "- classifier.bias: found shape torch.Size([3]) in the checkpoint and torch.Size([8]) in the model instantiated\n",
      "You should probably TRAIN this model on a down-stream task to be able to use it for predictions and inference.\n"
     ]
    }
   ],
   "source": [
    "# Cargar el modelo pre-entrenado\n",
    "model = AutoModelForTokenClassification.from_pretrained(model_name, num_labels=num_labels, ignore_mismatched_sizes=True).to(\"cuda\")\n",
    "# # pip install --no-cache-dir --force-reinstall Pillow"
   ]
  },
  {
   "cell_type": "code",
   "execution_count": 13,
   "metadata": {},
   "outputs": [
    {
     "data": {
      "text/plain": [
       "RobertaForTokenClassification(\n",
       "  (roberta): RobertaModel(\n",
       "    (embeddings): RobertaEmbeddings(\n",
       "      (word_embeddings): Embedding(50262, 768, padding_idx=1)\n",
       "      (position_embeddings): Embedding(514, 768, padding_idx=1)\n",
       "      (token_type_embeddings): Embedding(1, 768)\n",
       "      (LayerNorm): LayerNorm((768,), eps=1e-05, elementwise_affine=True)\n",
       "      (dropout): Dropout(p=0.1, inplace=False)\n",
       "    )\n",
       "    (encoder): RobertaEncoder(\n",
       "      (layer): ModuleList(\n",
       "        (0-11): 12 x RobertaLayer(\n",
       "          (attention): RobertaAttention(\n",
       "            (self): RobertaSelfAttention(\n",
       "              (query): Linear(in_features=768, out_features=768, bias=True)\n",
       "              (key): Linear(in_features=768, out_features=768, bias=True)\n",
       "              (value): Linear(in_features=768, out_features=768, bias=True)\n",
       "              (dropout): Dropout(p=0.1, inplace=False)\n",
       "            )\n",
       "            (output): RobertaSelfOutput(\n",
       "              (dense): Linear(in_features=768, out_features=768, bias=True)\n",
       "              (LayerNorm): LayerNorm((768,), eps=1e-05, elementwise_affine=True)\n",
       "              (dropout): Dropout(p=0.1, inplace=False)\n",
       "            )\n",
       "          )\n",
       "          (intermediate): RobertaIntermediate(\n",
       "            (dense): Linear(in_features=768, out_features=3072, bias=True)\n",
       "            (intermediate_act_fn): GELUActivation()\n",
       "          )\n",
       "          (output): RobertaOutput(\n",
       "            (dense): Linear(in_features=3072, out_features=768, bias=True)\n",
       "            (LayerNorm): LayerNorm((768,), eps=1e-05, elementwise_affine=True)\n",
       "            (dropout): Dropout(p=0.1, inplace=False)\n",
       "          )\n",
       "        )\n",
       "      )\n",
       "    )\n",
       "  )\n",
       "  (dropout): Dropout(p=0.1, inplace=False)\n",
       "  (classifier): Linear(in_features=768, out_features=8, bias=True)\n",
       ")"
      ]
     },
     "execution_count": 13,
     "metadata": {},
     "output_type": "execute_result"
    }
   ],
   "source": [
    "model"
   ]
  },
  {
   "cell_type": "code",
   "execution_count": 14,
   "metadata": {},
   "outputs": [
    {
     "name": "stdout",
     "output_type": "stream",
     "text": [
      "GPU memory occupied: 2265 MB.\n"
     ]
    }
   ],
   "source": [
    "def print_gpu_utilization():\n",
    "    nvmlInit()\n",
    "    handle = nvmlDeviceGetHandleByIndex(0)\n",
    "    info = nvmlDeviceGetMemoryInfo(handle)\n",
    "    print(f\"GPU memory occupied: {info.used//1024**2} MB.\")\n",
    "    \n",
    "print_gpu_utilization()"
   ]
  },
  {
   "cell_type": "code",
   "execution_count": 15,
   "metadata": {},
   "outputs": [],
   "source": [
    "model.config.id2label  = idx2label\n",
    "model.config.label2idx = label2idx"
   ]
  },
  {
   "cell_type": "code",
   "execution_count": 16,
   "metadata": {},
   "outputs": [
    {
     "data": {
      "application/vnd.plotly.v1+json": {
       "config": {
        "plotlyServerURL": "https://plot.ly"
       },
       "data": [
        {
         "type": "histogram",
         "x": [
          16,
          17,
          11,
          21,
          11,
          7,
          22,
          32,
          23,
          24,
          20,
          24,
          21,
          16,
          16,
          6,
          8,
          10,
          18,
          12,
          8,
          22,
          7,
          9,
          17,
          9,
          14,
          16,
          10,
          9,
          22,
          16,
          13,
          30,
          12,
          10,
          19,
          20,
          11,
          12,
          21,
          9,
          9,
          21,
          13,
          10,
          20,
          18,
          22,
          8,
          8,
          12,
          36,
          14,
          17,
          8,
          15,
          14,
          27,
          19,
          23,
          8,
          17,
          16,
          12,
          11,
          26,
          14,
          8,
          14,
          11,
          8,
          30,
          16,
          17,
          8,
          24,
          19,
          29,
          7,
          25,
          19,
          12,
          21,
          10,
          16,
          11,
          17,
          10,
          12,
          20,
          16,
          15,
          20,
          18,
          20,
          24,
          14,
          7,
          21,
          13,
          6,
          17,
          14,
          15,
          16,
          15,
          13,
          17,
          13,
          20,
          10,
          11,
          16,
          19,
          24,
          22,
          10,
          24,
          14,
          11,
          8,
          26,
          12,
          8,
          14,
          10,
          27,
          6,
          9,
          15,
          9,
          17,
          14,
          16,
          24,
          25,
          9,
          20,
          15,
          23,
          7,
          13,
          24,
          10,
          29,
          11,
          16,
          18,
          14,
          10,
          16,
          17,
          14,
          10,
          16,
          20,
          17,
          15,
          16,
          12,
          9,
          6,
          13,
          10,
          14,
          20,
          13,
          18,
          14,
          19,
          20,
          17,
          15,
          10,
          27,
          18,
          14,
          17,
          18,
          32,
          8,
          14,
          15,
          8,
          20,
          11,
          17,
          23,
          12,
          12,
          13,
          15,
          23,
          8,
          15,
          12,
          18,
          14,
          24,
          14,
          16,
          18,
          15,
          21,
          14,
          13,
          23,
          7,
          21,
          17,
          13,
          11,
          19,
          13,
          25,
          34,
          15,
          14,
          10,
          13,
          11,
          15,
          8,
          12,
          27,
          20,
          13,
          13,
          12,
          15,
          11,
          21,
          19,
          20,
          16,
          10,
          13,
          18,
          12,
          17,
          18,
          12,
          27,
          17,
          21,
          18,
          20,
          20,
          21,
          14,
          17,
          24,
          9,
          6,
          27,
          21,
          18,
          10,
          25,
          17,
          28,
          17,
          15,
          16,
          24,
          13,
          19,
          18,
          10,
          13,
          12,
          18,
          15,
          7,
          19,
          8,
          12,
          20,
          12,
          18,
          10,
          17,
          19,
          19,
          15,
          16,
          20,
          11,
          15,
          8,
          23,
          14,
          18,
          18,
          10,
          17,
          20,
          13,
          27,
          12,
          11,
          12,
          28,
          18,
          10,
          14,
          18,
          9,
          16,
          14,
          16,
          14,
          10,
          18,
          26,
          20,
          8,
          10,
          23,
          15,
          11,
          28,
          11,
          20,
          11,
          20,
          17,
          16,
          13,
          16,
          21,
          10,
          12,
          31,
          26,
          12,
          21,
          23,
          13,
          12,
          24,
          30,
          17,
          8,
          12,
          23,
          24,
          13,
          26,
          15,
          18,
          15,
          13,
          22,
          8,
          13,
          18,
          9,
          22,
          20,
          11,
          16,
          7,
          13,
          19,
          13,
          6,
          8,
          17,
          18,
          11,
          25,
          16,
          9,
          12,
          10,
          19,
          14,
          7,
          16,
          9,
          15,
          17,
          18,
          10,
          15,
          16,
          14,
          24,
          22,
          12,
          11,
          10,
          12,
          22,
          27,
          29,
          16,
          22,
          10,
          15,
          8,
          7,
          12,
          15,
          24,
          12,
          17,
          21,
          17,
          18,
          7,
          13,
          7,
          13,
          10,
          20,
          16,
          9,
          17,
          10,
          17,
          15,
          14,
          9,
          21,
          17,
          11,
          11,
          12,
          26,
          14,
          13,
          17,
          21,
          15,
          11,
          22,
          27,
          5,
          7,
          6,
          15,
          22,
          13,
          14,
          17,
          24,
          15,
          11,
          16,
          7,
          19,
          7,
          22,
          10,
          18,
          19,
          27,
          20,
          15,
          39,
          23,
          21,
          18,
          23,
          22,
          14,
          18,
          10,
          26,
          12,
          16,
          11,
          7,
          11,
          18,
          10,
          16,
          14,
          16,
          19,
          15,
          22,
          20,
          13,
          15,
          18,
          8,
          16,
          14,
          29,
          22,
          30,
          15,
          17,
          13,
          13,
          18,
          27,
          17,
          30,
          19,
          35,
          14,
          22,
          15,
          12,
          18,
          11,
          13,
          12,
          23,
          10,
          15,
          26,
          21,
          24,
          7,
          22,
          18,
          25,
          23,
          19,
          18,
          13,
          10,
          19,
          8,
          25,
          21,
          19,
          6,
          30,
          21,
          8,
          25,
          9,
          9,
          15,
          12,
          10,
          10,
          11,
          10,
          20,
          15,
          22,
          17,
          13,
          11,
          25,
          22,
          24,
          24,
          21,
          32,
          14,
          13,
          14,
          11,
          19,
          20,
          18,
          15,
          8,
          17,
          27,
          33,
          9,
          11,
          9,
          12,
          20,
          14,
          14,
          8,
          13,
          17,
          22,
          16,
          31,
          54,
          23,
          27,
          18,
          11,
          11,
          16,
          10,
          26,
          10,
          25,
          15,
          21,
          14,
          22,
          15,
          16,
          17,
          17,
          24,
          23,
          20,
          16,
          19,
          18,
          9,
          10,
          13,
          17,
          9,
          11,
          14,
          22,
          19,
          14,
          17,
          9,
          16,
          20,
          17,
          35,
          20,
          8,
          9,
          13,
          18,
          15,
          25,
          15,
          16,
          20,
          20,
          13,
          11,
          10,
          12,
          13,
          11,
          17,
          10,
          25,
          14,
          25,
          26,
          22,
          17,
          14,
          19,
          18,
          8,
          13,
          10,
          26,
          17,
          26,
          6,
          10,
          22,
          14,
          18,
          14,
          18,
          29,
          23,
          15,
          12,
          15,
          13,
          9,
          12,
          18,
          20,
          19,
          11,
          9,
          16,
          8,
          21,
          9,
          6,
          11,
          21,
          16,
          17,
          6,
          12,
          26,
          22,
          19,
          23,
          8,
          11,
          14,
          23,
          18,
          13,
          18,
          20,
          23,
          16,
          18,
          29,
          10,
          18,
          17,
          27,
          15,
          9,
          15,
          11,
          16,
          12,
          6,
          15,
          13,
          14,
          33,
          7,
          14,
          19,
          22,
          16,
          10,
          13,
          14,
          11,
          31,
          10,
          14,
          14,
          16,
          13,
          23,
          42,
          17,
          6,
          12,
          19,
          11,
          7,
          24,
          11,
          15,
          14,
          15,
          17,
          17,
          19,
          10,
          22,
          8,
          18,
          11,
          17,
          16,
          23,
          13,
          7,
          10,
          12,
          13,
          17,
          16,
          25,
          19,
          13,
          21,
          20,
          12,
          11,
          18,
          15,
          10,
          11,
          8,
          21,
          9,
          24,
          21,
          8,
          10,
          9,
          21,
          22,
          39,
          17,
          18,
          13,
          21,
          12,
          6,
          7,
          19,
          6,
          14,
          23,
          10
         ]
        }
       ],
       "layout": {
        "template": {
         "data": {
          "bar": [
           {
            "error_x": {
             "color": "#2a3f5f"
            },
            "error_y": {
             "color": "#2a3f5f"
            },
            "marker": {
             "line": {
              "color": "#E5ECF6",
              "width": 0.5
             },
             "pattern": {
              "fillmode": "overlay",
              "size": 10,
              "solidity": 0.2
             }
            },
            "type": "bar"
           }
          ],
          "barpolar": [
           {
            "marker": {
             "line": {
              "color": "#E5ECF6",
              "width": 0.5
             },
             "pattern": {
              "fillmode": "overlay",
              "size": 10,
              "solidity": 0.2
             }
            },
            "type": "barpolar"
           }
          ],
          "carpet": [
           {
            "aaxis": {
             "endlinecolor": "#2a3f5f",
             "gridcolor": "white",
             "linecolor": "white",
             "minorgridcolor": "white",
             "startlinecolor": "#2a3f5f"
            },
            "baxis": {
             "endlinecolor": "#2a3f5f",
             "gridcolor": "white",
             "linecolor": "white",
             "minorgridcolor": "white",
             "startlinecolor": "#2a3f5f"
            },
            "type": "carpet"
           }
          ],
          "choropleth": [
           {
            "colorbar": {
             "outlinewidth": 0,
             "ticks": ""
            },
            "type": "choropleth"
           }
          ],
          "contour": [
           {
            "colorbar": {
             "outlinewidth": 0,
             "ticks": ""
            },
            "colorscale": [
             [
              0,
              "#0d0887"
             ],
             [
              0.1111111111111111,
              "#46039f"
             ],
             [
              0.2222222222222222,
              "#7201a8"
             ],
             [
              0.3333333333333333,
              "#9c179e"
             ],
             [
              0.4444444444444444,
              "#bd3786"
             ],
             [
              0.5555555555555556,
              "#d8576b"
             ],
             [
              0.6666666666666666,
              "#ed7953"
             ],
             [
              0.7777777777777778,
              "#fb9f3a"
             ],
             [
              0.8888888888888888,
              "#fdca26"
             ],
             [
              1,
              "#f0f921"
             ]
            ],
            "type": "contour"
           }
          ],
          "contourcarpet": [
           {
            "colorbar": {
             "outlinewidth": 0,
             "ticks": ""
            },
            "type": "contourcarpet"
           }
          ],
          "heatmap": [
           {
            "colorbar": {
             "outlinewidth": 0,
             "ticks": ""
            },
            "colorscale": [
             [
              0,
              "#0d0887"
             ],
             [
              0.1111111111111111,
              "#46039f"
             ],
             [
              0.2222222222222222,
              "#7201a8"
             ],
             [
              0.3333333333333333,
              "#9c179e"
             ],
             [
              0.4444444444444444,
              "#bd3786"
             ],
             [
              0.5555555555555556,
              "#d8576b"
             ],
             [
              0.6666666666666666,
              "#ed7953"
             ],
             [
              0.7777777777777778,
              "#fb9f3a"
             ],
             [
              0.8888888888888888,
              "#fdca26"
             ],
             [
              1,
              "#f0f921"
             ]
            ],
            "type": "heatmap"
           }
          ],
          "heatmapgl": [
           {
            "colorbar": {
             "outlinewidth": 0,
             "ticks": ""
            },
            "colorscale": [
             [
              0,
              "#0d0887"
             ],
             [
              0.1111111111111111,
              "#46039f"
             ],
             [
              0.2222222222222222,
              "#7201a8"
             ],
             [
              0.3333333333333333,
              "#9c179e"
             ],
             [
              0.4444444444444444,
              "#bd3786"
             ],
             [
              0.5555555555555556,
              "#d8576b"
             ],
             [
              0.6666666666666666,
              "#ed7953"
             ],
             [
              0.7777777777777778,
              "#fb9f3a"
             ],
             [
              0.8888888888888888,
              "#fdca26"
             ],
             [
              1,
              "#f0f921"
             ]
            ],
            "type": "heatmapgl"
           }
          ],
          "histogram": [
           {
            "marker": {
             "pattern": {
              "fillmode": "overlay",
              "size": 10,
              "solidity": 0.2
             }
            },
            "type": "histogram"
           }
          ],
          "histogram2d": [
           {
            "colorbar": {
             "outlinewidth": 0,
             "ticks": ""
            },
            "colorscale": [
             [
              0,
              "#0d0887"
             ],
             [
              0.1111111111111111,
              "#46039f"
             ],
             [
              0.2222222222222222,
              "#7201a8"
             ],
             [
              0.3333333333333333,
              "#9c179e"
             ],
             [
              0.4444444444444444,
              "#bd3786"
             ],
             [
              0.5555555555555556,
              "#d8576b"
             ],
             [
              0.6666666666666666,
              "#ed7953"
             ],
             [
              0.7777777777777778,
              "#fb9f3a"
             ],
             [
              0.8888888888888888,
              "#fdca26"
             ],
             [
              1,
              "#f0f921"
             ]
            ],
            "type": "histogram2d"
           }
          ],
          "histogram2dcontour": [
           {
            "colorbar": {
             "outlinewidth": 0,
             "ticks": ""
            },
            "colorscale": [
             [
              0,
              "#0d0887"
             ],
             [
              0.1111111111111111,
              "#46039f"
             ],
             [
              0.2222222222222222,
              "#7201a8"
             ],
             [
              0.3333333333333333,
              "#9c179e"
             ],
             [
              0.4444444444444444,
              "#bd3786"
             ],
             [
              0.5555555555555556,
              "#d8576b"
             ],
             [
              0.6666666666666666,
              "#ed7953"
             ],
             [
              0.7777777777777778,
              "#fb9f3a"
             ],
             [
              0.8888888888888888,
              "#fdca26"
             ],
             [
              1,
              "#f0f921"
             ]
            ],
            "type": "histogram2dcontour"
           }
          ],
          "mesh3d": [
           {
            "colorbar": {
             "outlinewidth": 0,
             "ticks": ""
            },
            "type": "mesh3d"
           }
          ],
          "parcoords": [
           {
            "line": {
             "colorbar": {
              "outlinewidth": 0,
              "ticks": ""
             }
            },
            "type": "parcoords"
           }
          ],
          "pie": [
           {
            "automargin": true,
            "type": "pie"
           }
          ],
          "scatter": [
           {
            "fillpattern": {
             "fillmode": "overlay",
             "size": 10,
             "solidity": 0.2
            },
            "type": "scatter"
           }
          ],
          "scatter3d": [
           {
            "line": {
             "colorbar": {
              "outlinewidth": 0,
              "ticks": ""
             }
            },
            "marker": {
             "colorbar": {
              "outlinewidth": 0,
              "ticks": ""
             }
            },
            "type": "scatter3d"
           }
          ],
          "scattercarpet": [
           {
            "marker": {
             "colorbar": {
              "outlinewidth": 0,
              "ticks": ""
             }
            },
            "type": "scattercarpet"
           }
          ],
          "scattergeo": [
           {
            "marker": {
             "colorbar": {
              "outlinewidth": 0,
              "ticks": ""
             }
            },
            "type": "scattergeo"
           }
          ],
          "scattergl": [
           {
            "marker": {
             "colorbar": {
              "outlinewidth": 0,
              "ticks": ""
             }
            },
            "type": "scattergl"
           }
          ],
          "scattermapbox": [
           {
            "marker": {
             "colorbar": {
              "outlinewidth": 0,
              "ticks": ""
             }
            },
            "type": "scattermapbox"
           }
          ],
          "scatterpolar": [
           {
            "marker": {
             "colorbar": {
              "outlinewidth": 0,
              "ticks": ""
             }
            },
            "type": "scatterpolar"
           }
          ],
          "scatterpolargl": [
           {
            "marker": {
             "colorbar": {
              "outlinewidth": 0,
              "ticks": ""
             }
            },
            "type": "scatterpolargl"
           }
          ],
          "scatterternary": [
           {
            "marker": {
             "colorbar": {
              "outlinewidth": 0,
              "ticks": ""
             }
            },
            "type": "scatterternary"
           }
          ],
          "surface": [
           {
            "colorbar": {
             "outlinewidth": 0,
             "ticks": ""
            },
            "colorscale": [
             [
              0,
              "#0d0887"
             ],
             [
              0.1111111111111111,
              "#46039f"
             ],
             [
              0.2222222222222222,
              "#7201a8"
             ],
             [
              0.3333333333333333,
              "#9c179e"
             ],
             [
              0.4444444444444444,
              "#bd3786"
             ],
             [
              0.5555555555555556,
              "#d8576b"
             ],
             [
              0.6666666666666666,
              "#ed7953"
             ],
             [
              0.7777777777777778,
              "#fb9f3a"
             ],
             [
              0.8888888888888888,
              "#fdca26"
             ],
             [
              1,
              "#f0f921"
             ]
            ],
            "type": "surface"
           }
          ],
          "table": [
           {
            "cells": {
             "fill": {
              "color": "#EBF0F8"
             },
             "line": {
              "color": "white"
             }
            },
            "header": {
             "fill": {
              "color": "#C8D4E3"
             },
             "line": {
              "color": "white"
             }
            },
            "type": "table"
           }
          ]
         },
         "layout": {
          "annotationdefaults": {
           "arrowcolor": "#2a3f5f",
           "arrowhead": 0,
           "arrowwidth": 1
          },
          "autotypenumbers": "strict",
          "coloraxis": {
           "colorbar": {
            "outlinewidth": 0,
            "ticks": ""
           }
          },
          "colorscale": {
           "diverging": [
            [
             0,
             "#8e0152"
            ],
            [
             0.1,
             "#c51b7d"
            ],
            [
             0.2,
             "#de77ae"
            ],
            [
             0.3,
             "#f1b6da"
            ],
            [
             0.4,
             "#fde0ef"
            ],
            [
             0.5,
             "#f7f7f7"
            ],
            [
             0.6,
             "#e6f5d0"
            ],
            [
             0.7,
             "#b8e186"
            ],
            [
             0.8,
             "#7fbc41"
            ],
            [
             0.9,
             "#4d9221"
            ],
            [
             1,
             "#276419"
            ]
           ],
           "sequential": [
            [
             0,
             "#0d0887"
            ],
            [
             0.1111111111111111,
             "#46039f"
            ],
            [
             0.2222222222222222,
             "#7201a8"
            ],
            [
             0.3333333333333333,
             "#9c179e"
            ],
            [
             0.4444444444444444,
             "#bd3786"
            ],
            [
             0.5555555555555556,
             "#d8576b"
            ],
            [
             0.6666666666666666,
             "#ed7953"
            ],
            [
             0.7777777777777778,
             "#fb9f3a"
            ],
            [
             0.8888888888888888,
             "#fdca26"
            ],
            [
             1,
             "#f0f921"
            ]
           ],
           "sequentialminus": [
            [
             0,
             "#0d0887"
            ],
            [
             0.1111111111111111,
             "#46039f"
            ],
            [
             0.2222222222222222,
             "#7201a8"
            ],
            [
             0.3333333333333333,
             "#9c179e"
            ],
            [
             0.4444444444444444,
             "#bd3786"
            ],
            [
             0.5555555555555556,
             "#d8576b"
            ],
            [
             0.6666666666666666,
             "#ed7953"
            ],
            [
             0.7777777777777778,
             "#fb9f3a"
            ],
            [
             0.8888888888888888,
             "#fdca26"
            ],
            [
             1,
             "#f0f921"
            ]
           ]
          },
          "colorway": [
           "#636efa",
           "#EF553B",
           "#00cc96",
           "#ab63fa",
           "#FFA15A",
           "#19d3f3",
           "#FF6692",
           "#B6E880",
           "#FF97FF",
           "#FECB52"
          ],
          "font": {
           "color": "#2a3f5f"
          },
          "geo": {
           "bgcolor": "white",
           "lakecolor": "white",
           "landcolor": "#E5ECF6",
           "showlakes": true,
           "showland": true,
           "subunitcolor": "white"
          },
          "hoverlabel": {
           "align": "left"
          },
          "hovermode": "closest",
          "mapbox": {
           "style": "light"
          },
          "paper_bgcolor": "white",
          "plot_bgcolor": "#E5ECF6",
          "polar": {
           "angularaxis": {
            "gridcolor": "white",
            "linecolor": "white",
            "ticks": ""
           },
           "bgcolor": "#E5ECF6",
           "radialaxis": {
            "gridcolor": "white",
            "linecolor": "white",
            "ticks": ""
           }
          },
          "scene": {
           "xaxis": {
            "backgroundcolor": "#E5ECF6",
            "gridcolor": "white",
            "gridwidth": 2,
            "linecolor": "white",
            "showbackground": true,
            "ticks": "",
            "zerolinecolor": "white"
           },
           "yaxis": {
            "backgroundcolor": "#E5ECF6",
            "gridcolor": "white",
            "gridwidth": 2,
            "linecolor": "white",
            "showbackground": true,
            "ticks": "",
            "zerolinecolor": "white"
           },
           "zaxis": {
            "backgroundcolor": "#E5ECF6",
            "gridcolor": "white",
            "gridwidth": 2,
            "linecolor": "white",
            "showbackground": true,
            "ticks": "",
            "zerolinecolor": "white"
           }
          },
          "shapedefaults": {
           "line": {
            "color": "#2a3f5f"
           }
          },
          "ternary": {
           "aaxis": {
            "gridcolor": "white",
            "linecolor": "white",
            "ticks": ""
           },
           "baxis": {
            "gridcolor": "white",
            "linecolor": "white",
            "ticks": ""
           },
           "bgcolor": "#E5ECF6",
           "caxis": {
            "gridcolor": "white",
            "linecolor": "white",
            "ticks": ""
           }
          },
          "title": {
           "x": 0.05
          },
          "xaxis": {
           "automargin": true,
           "gridcolor": "white",
           "linecolor": "white",
           "ticks": "",
           "title": {
            "standoff": 15
           },
           "zerolinecolor": "white",
           "zerolinewidth": 2
          },
          "yaxis": {
           "automargin": true,
           "gridcolor": "white",
           "linecolor": "white",
           "ticks": "",
           "title": {
            "standoff": 15
           },
           "zerolinecolor": "white",
           "zerolinewidth": 2
          }
         }
        },
        "title": {
         "text": "Distribución de la cantidad de tokens en el conjunto de entrenamiento"
        }
       }
      }
     },
     "metadata": {},
     "output_type": "display_data"
    }
   ],
   "source": [
    "sentences_len_train = [len(sentences_len) for sentences_len in train_test_valid_dataset[\"train\"][\"inputs\"]]\n",
    "fig = go.Figure(data=[go.Histogram(x=sentences_len_train)])\n",
    "fig.update_layout(title_text='Distribución de la cantidad de tokens en el conjunto de entrenamiento')\n",
    "fig.show()"
   ]
  },
  {
   "cell_type": "code",
   "execution_count": 17,
   "metadata": {},
   "outputs": [],
   "source": [
    "# preparar la data \n",
    "# considerar: max len, padding, mask attention\n",
    "# max len es la longitud máxima que se permitirá para una seceuncia de entrada. Si una sentencia es más larga que tal valor, se truncará y se rellena con padding\n",
    "# padding es el procesos de agregar tokens de relleno a las sencuencias inferiores a max len\n",
    "# mas attention es un mecanimos que permite que nuestro modelo ignore los oktens de relleno durante el entrenamiento y la inferencia y no se presta atención \n",
    "# para el calculo del error o función de coste\n",
    "\n",
    "def tokenize_and_aling_labels(examples, input_column_name,output_column_name, \n",
    "                            padding,  max_length, label_to_id, label_all_tokens):\n",
    "    \"\"\"\n",
    "    examples\n",
    "    input columns names: sentences list \n",
    "    output column name: true labels with BIO format list\n",
    "    max_length \n",
    "    label_to_id: dictionary decoding label into int\n",
    "    label_all_tokens\n",
    "    \"\"\" \n",
    "    tokenized_inputs= tokenizer(examples[input_column_name], \n",
    "                                padding = padding, \n",
    "                                truncation= True,\n",
    "                                max_length= max_length,\n",
    "                                is_split_into_words= True,\n",
    "                                return_tensors= \"pt\"\n",
    "                                )\n",
    "    labels = []\n",
    "    for i, label in enumerate(examples[output_column_name]):\n",
    "        word_ids = tokenized_inputs.word_ids(batch_index=i) \n",
    "        previous_word_idx = None\n",
    "        labels_ids = []\n",
    "        for word_idx in word_ids:\n",
    "            # para los tokens que tienen word id None, fijar label a -100 para ignorarlos en loss function\n",
    "            if word_idx is None:\n",
    "                labels_ids.append(-100)\n",
    "            # fijar el id basado en la label para codificar en int basados en label2idx\n",
    "            elif word_idx != previous_word_idx:\n",
    "                labels_ids.append(label_to_id[label[word_idx]])\n",
    "\n",
    "            else:\n",
    "                labels_ids.append(label_to_id[label[word_idx]] if label_all_tokens else -100)\n",
    "            previous_word_idx = word_idx\n",
    "\n",
    "        labels.append(labels_ids)\n",
    "    tokenized_inputs[\"labels\"] = labels\n",
    "    return tokenized_inputs"
   ]
  },
  {
   "cell_type": "code",
   "execution_count": 18,
   "metadata": {},
   "outputs": [
    {
     "name": "stderr",
     "output_type": "stream",
     "text": [
      "                                                   \r"
     ]
    },
    {
     "data": {
      "text/plain": [
       "DatasetDict({\n",
       "    train: Dataset({\n",
       "        features: ['inputs', 'output', 'input_ids', 'attention_mask', 'labels'],\n",
       "        num_rows: 800\n",
       "    })\n",
       "    test: Dataset({\n",
       "        features: ['inputs', 'output', 'input_ids', 'attention_mask', 'labels'],\n",
       "        num_rows: 100\n",
       "    })\n",
       "    validation: Dataset({\n",
       "        features: ['inputs', 'output', 'input_ids', 'attention_mask', 'labels'],\n",
       "        num_rows: 199\n",
       "    })\n",
       "})"
      ]
     },
     "execution_count": 18,
     "metadata": {},
     "output_type": "execute_result"
    }
   ],
   "source": [
    "train_test_valid_dataset_align = train_test_valid_dataset.map(tokenize_and_aling_labels,\n",
    "            fn_kwargs = dict(\n",
    "            input_column_name = \"inputs\",\n",
    "            padding = \"max_length\", \n",
    "            output_column_name = \"output\", \n",
    "            max_length = 30, \n",
    "            label_to_id = label2idx, \n",
    "            label_all_tokens = False\n",
    "            ),\n",
    "            batched=True,\n",
    "        )\n",
    "train_test_valid_dataset_align"
   ]
  },
  {
   "cell_type": "code",
   "execution_count": 19,
   "metadata": {},
   "outputs": [
    {
     "data": {
      "text/plain": [
       "[-100,\n",
       " 0,\n",
       " 0,\n",
       " 1,\n",
       " 2,\n",
       " 2,\n",
       " 0,\n",
       " -100,\n",
       " 0,\n",
       " 0,\n",
       " 1,\n",
       " 0,\n",
       " -100,\n",
       " 0,\n",
       " 0,\n",
       " 0,\n",
       " 1,\n",
       " 2,\n",
       " 0,\n",
       " -100,\n",
       " -100,\n",
       " -100,\n",
       " -100,\n",
       " -100,\n",
       " -100,\n",
       " -100,\n",
       " -100,\n",
       " -100,\n",
       " -100,\n",
       " -100]"
      ]
     },
     "execution_count": 19,
     "metadata": {},
     "output_type": "execute_result"
    }
   ],
   "source": [
    "train_test_valid_dataset_align[\"train\"][\"labels\"][0]"
   ]
  },
  {
   "cell_type": "code",
   "execution_count": 20,
   "metadata": {},
   "outputs": [],
   "source": [
    "metric = evaluate.load(\"f1\")\n",
    "\n",
    "def compute_metrics(eval_pred):\n",
    "    logits, labels = eval_pred\n",
    "    predictions = np.argmax(logits, axis= -1)\n",
    "\n",
    "    # remover tokens especiales (padding, especial tokens)\n",
    "    true_predictions = []\n",
    "    true_labels  = []\n",
    "    for row_pred, row_lab in zip(predictions, labels): \n",
    "        for dat_pred, dat_lab in zip(row_pred, row_lab):\n",
    "            if dat_lab != -100:\n",
    "                true_predictions.append(dat_pred)\n",
    "                true_labels.append(dat_lab)\n",
    "\n",
    "    return metric.compute(predictions= true_predictions, references = true_labels, average = \"macro\")\n",
    "        \n"
   ]
  },
  {
   "cell_type": "code",
   "execution_count": 21,
   "metadata": {},
   "outputs": [
    {
     "data": {
      "text/plain": [
       "[('weight',\n",
       "  Parameter containing:\n",
       "  tensor([[-0.0104,  0.0269, -0.0043,  ...,  0.0056,  0.0160,  0.0253],\n",
       "          [-0.0332, -0.0110,  0.0070,  ..., -0.0264,  0.0105,  0.0127],\n",
       "          [-0.0258, -0.0243, -0.0327,  ...,  0.0230,  0.0060, -0.0094],\n",
       "          ...,\n",
       "          [ 0.0225,  0.0260,  0.0190,  ..., -0.0007,  0.0119,  0.0339],\n",
       "          [-0.0094, -0.0354,  0.0194,  ...,  0.0159,  0.0089, -0.0217],\n",
       "          [-0.0069,  0.0209, -0.0217,  ..., -0.0218,  0.0220,  0.0162]],\n",
       "         device='cuda:0', requires_grad=True)),\n",
       " ('bias',\n",
       "  Parameter containing:\n",
       "  tensor([-0.0272, -0.0336, -0.0240, -0.0136,  0.0338, -0.0166,  0.0277, -0.0093],\n",
       "         device='cuda:0', requires_grad=True))]"
      ]
     },
     "execution_count": 21,
     "metadata": {},
     "output_type": "execute_result"
    }
   ],
   "source": [
    "list(model.classifier.named_parameters())"
   ]
  },
  {
   "cell_type": "code",
   "execution_count": 22,
   "metadata": {},
   "outputs": [],
   "source": [
    "def print_summary(result):\n",
    "    print(f\"Time: {result.metrics['train_runtime']:.2f}\")\n",
    "    print(f\"Samples/second: {result.metrics['train_samples_per_second']:.2f}\")\n",
    "    print_gpu_utilization()"
   ]
  },
  {
   "attachments": {},
   "cell_type": "markdown",
   "metadata": {},
   "source": [
    "### 💻 Preparando fase de entrenamiento"
   ]
  },
  {
   "cell_type": "code",
   "execution_count": 23,
   "metadata": {},
   "outputs": [
    {
     "name": "stderr",
     "output_type": "stream",
     "text": [
      "  0%|          | 0/375 [00:00<?, ?it/s]You're using a RobertaTokenizerFast tokenizer. Please note that with a fast tokenizer, using the `__call__` method is faster than using a method to encode the text followed by a call to the `pad` method to get a padded encoding.\n",
      "                                                \n",
      "  7%|▋         | 25/375 [00:03<00:31, 11.07it/s]"
     ]
    },
    {
     "name": "stdout",
     "output_type": "stream",
     "text": [
      "{'eval_loss': 0.5650594234466553, 'eval_f1': 0.3783075037924354, 'eval_runtime': 0.4289, 'eval_samples_per_second': 463.961, 'eval_steps_per_second': 58.287, 'epoch': 1.0}\n"
     ]
    },
    {
     "name": "stderr",
     "output_type": "stream",
     "text": [
      "                                                \n",
      " 13%|█▎        | 50/375 [00:11<00:28, 11.44it/s]"
     ]
    },
    {
     "name": "stdout",
     "output_type": "stream",
     "text": [
      "{'eval_loss': 0.3753697872161865, 'eval_f1': 0.5159368464620934, 'eval_runtime': 0.4506, 'eval_samples_per_second': 441.6, 'eval_steps_per_second': 55.477, 'epoch': 2.0}\n"
     ]
    },
    {
     "name": "stderr",
     "output_type": "stream",
     "text": [
      "                                                \n",
      " 20%|██        | 75/375 [00:23<00:31,  9.38it/s]"
     ]
    },
    {
     "name": "stdout",
     "output_type": "stream",
     "text": [
      "{'eval_loss': 0.3405446708202362, 'eval_f1': 0.5960049313278073, 'eval_runtime': 0.4448, 'eval_samples_per_second': 447.349, 'eval_steps_per_second': 56.2, 'epoch': 3.0}\n"
     ]
    },
    {
     "name": "stderr",
     "output_type": "stream",
     "text": [
      "                                                 \n",
      " 27%|██▋       | 100/375 [00:39<00:29,  9.33it/s]"
     ]
    },
    {
     "name": "stdout",
     "output_type": "stream",
     "text": [
      "{'eval_loss': 0.33759236335754395, 'eval_f1': 0.6157799585565211, 'eval_runtime': 0.4229, 'eval_samples_per_second': 470.511, 'eval_steps_per_second': 59.109, 'epoch': 4.0}\n"
     ]
    },
    {
     "name": "stderr",
     "output_type": "stream",
     "text": [
      "                                                 \n",
      " 33%|███▎      | 125/375 [00:52<00:26,  9.53it/s]"
     ]
    },
    {
     "name": "stdout",
     "output_type": "stream",
     "text": [
      "{'eval_loss': 0.3643116056919098, 'eval_f1': 0.6065784915110273, 'eval_runtime': 0.465, 'eval_samples_per_second': 427.987, 'eval_steps_per_second': 53.767, 'epoch': 5.0}\n"
     ]
    },
    {
     "name": "stderr",
     "output_type": "stream",
     "text": [
      " 33%|███▎      | 125/375 [01:06<02:13,  1.87it/s]"
     ]
    },
    {
     "name": "stdout",
     "output_type": "stream",
     "text": [
      "{'train_runtime': 66.7631, 'train_samples_per_second': 179.74, 'train_steps_per_second': 5.617, 'train_loss': 0.4166098937988281, 'epoch': 5.0}\n",
      "Time: 66.76\n",
      "Samples/second: 179.74\n",
      "GPU memory occupied: 4905 MB.\n"
     ]
    },
    {
     "name": "stderr",
     "output_type": "stream",
     "text": [
      "\n"
     ]
    }
   ],
   "source": [
    "default_args = {\n",
    "    \"output_dir\": \"./results\",\n",
    "    \"evaluation_strategy\": \"epoch\",\n",
    "    \"save_strategy\": \"epoch\", \n",
    "    \"num_train_epochs\": 15,\n",
    "    \"per_device_train_batch_size\": 32,\n",
    "    \"per_device_eval_batch_size\": 8, \n",
    "   # \"log_level\": \"info\", # o \"debug\"\n",
    "    \"load_best_model_at_end\": True,\n",
    "  #  \"weight_decay\": 0.01,\n",
    "}\n",
    "\n",
    "\n",
    "data_collator = DataCollatorWithPadding(tokenizer=tokenizer)\n",
    "\n",
    "training_args = TrainingArguments(fp16=True, **default_args)\n",
    "trainer = Trainer(model=model, args=training_args, \n",
    "                  train_dataset=train_test_valid_dataset_align[\"train\"],\n",
    "                  eval_dataset=train_test_valid_dataset_align[\"validation\"],\n",
    "                  compute_metrics= compute_metrics,\n",
    "                  data_collator=data_collator, \n",
    "                  tokenizer=tokenizer\n",
    "                  )\n",
    "\n",
    "trainer.add_callback(EarlyStoppingCallback(1, 0.0001))\n",
    "result = trainer.train()\n",
    "\n",
    "print_summary(result)"
   ]
  },
  {
   "cell_type": "code",
   "execution_count": 24,
   "metadata": {},
   "outputs": [
    {
     "name": "stderr",
     "output_type": "stream",
     "text": [
      "100%|██████████| 13/13 [00:00<00:00, 50.96it/s]"
     ]
    },
    {
     "name": "stdout",
     "output_type": "stream",
     "text": [
      "***** test metrics *****\n",
      "  epoch                   =        5.0\n",
      "  eval_f1                 =     0.6626\n",
      "  eval_loss               =     0.3486\n",
      "  eval_runtime            = 0:00:00.54\n",
      "  eval_samples_per_second =    184.343\n",
      "  eval_steps_per_second   =     23.965\n"
     ]
    },
    {
     "name": "stderr",
     "output_type": "stream",
     "text": [
      "\n"
     ]
    }
   ],
   "source": [
    "metrics = trainer.evaluate(train_test_valid_dataset_align['test'])\n",
    "trainer.log_metrics(\"test\", metrics)"
   ]
  },
  {
   "cell_type": "code",
   "execution_count": 25,
   "metadata": {},
   "outputs": [
    {
     "name": "stdout",
     "output_type": "stream",
     "text": [
      "{'eval_loss': 0.5650594234466553, 'eval_f1': 0.3783075037924354, 'eval_runtime': 0.4289, 'eval_samples_per_second': 463.961, 'eval_steps_per_second': 58.287, 'epoch': 1.0, 'step': 25}\n",
      "{'eval_loss': 0.3753697872161865, 'eval_f1': 0.5159368464620934, 'eval_runtime': 0.4506, 'eval_samples_per_second': 441.6, 'eval_steps_per_second': 55.477, 'epoch': 2.0, 'step': 50}\n",
      "{'eval_loss': 0.3405446708202362, 'eval_f1': 0.5960049313278073, 'eval_runtime': 0.4448, 'eval_samples_per_second': 447.349, 'eval_steps_per_second': 56.2, 'epoch': 3.0, 'step': 75}\n",
      "{'eval_loss': 0.33759236335754395, 'eval_f1': 0.6157799585565211, 'eval_runtime': 0.4229, 'eval_samples_per_second': 470.511, 'eval_steps_per_second': 59.109, 'epoch': 4.0, 'step': 100}\n",
      "{'eval_loss': 0.3643116056919098, 'eval_f1': 0.6065784915110273, 'eval_runtime': 0.465, 'eval_samples_per_second': 427.987, 'eval_steps_per_second': 53.767, 'epoch': 5.0, 'step': 125}\n",
      "{'train_runtime': 66.7631, 'train_samples_per_second': 179.74, 'train_steps_per_second': 5.617, 'total_flos': 61244749440000.0, 'train_loss': 0.4166098937988281, 'epoch': 5.0, 'step': 125}\n",
      "{'eval_loss': 0.3486207127571106, 'eval_f1': 0.6625671974235035, 'eval_runtime': 0.5425, 'eval_samples_per_second': 184.343, 'eval_steps_per_second': 23.965, 'epoch': 5.0, 'step': 125}\n"
     ]
    }
   ],
   "source": [
    "for obj in trainer.state.log_history: \n",
    "    print(obj)"
   ]
  },
  {
   "attachments": {},
   "cell_type": "markdown",
   "metadata": {},
   "source": [
    "### Evaluación del modelo"
   ]
  },
  {
   "cell_type": "code",
   "execution_count": 26,
   "metadata": {},
   "outputs": [
    {
     "data": {
      "text/plain": [
       "{'f1': 0.6635071695884707}"
      ]
     },
     "execution_count": 26,
     "metadata": {},
     "output_type": "execute_result"
    }
   ],
   "source": [
    "with torch.no_grad():\n",
    "    logits = model(\n",
    "                input_ids = torch.tensor(train_test_valid_dataset_align[\"test\"][\"input_ids\"]).to(\"cuda\"),\n",
    "                attention_mask = torch.tensor(train_test_valid_dataset_align[\"test\"][\"attention_mask\"]).to(\"cuda\")\n",
    "                ).logits.to(\"cpu\")\n",
    "\n",
    "eval_pred = (logits,train_test_valid_dataset_align[\"test\"][\"labels\"])\n",
    "f1_test = compute_metrics(eval_pred)\n",
    "f1_test"
   ]
  },
  {
   "cell_type": "code",
   "execution_count": 27,
   "metadata": {},
   "outputs": [
    {
     "data": {
      "text/plain": [
       "torch.Size([100, 30, 8])"
      ]
     },
     "execution_count": 27,
     "metadata": {},
     "output_type": "execute_result"
    }
   ],
   "source": [
    "logits.shape #samples en test, max len, #num labels"
   ]
  },
  {
   "cell_type": "code",
   "execution_count": 28,
   "metadata": {},
   "outputs": [],
   "source": [
    "# añadamos todas las predicciones en test para sacar métricas de acuerdo al NER task \n",
    "predictions = np.argmax(logits, axis= -1)\n",
    "true_predictions = []\n",
    "true_labels = []\n",
    "\n",
    "for row_pred, row_lab in zip(predictions, train_test_valid_dataset_align[\"test\"][\"labels\"]):\n",
    "    for dat_pred, dat_lab in zip(row_pred, row_lab):\n",
    "        if dat_lab != -100:\n",
    "            true_predictions.append(dat_pred)\n",
    "            true_labels.append(dat_lab)\n",
    "\n",
    "true_predictions_names = [idx2label[idx.item()] for idx in true_predictions]\n",
    "true_labels_names = [idx2label[idx] for idx in true_labels]"
   ]
  },
  {
   "cell_type": "code",
   "execution_count": 29,
   "metadata": {},
   "outputs": [
    {
     "name": "stdout",
     "output_type": "stream",
     "text": [
      "sentence: el síndrome de dolor regional complejo es un trastorno de dolor crónico .\n",
      "predictions: O O B-Concept I-Concept I-Concept I-Concept I-Concept O O B-Concept O B-Concept I-Concept O O O O O O O O O O O O O O O O O\n",
      "real labels: O B-Concept I-Concept I-Concept I-Concept I-Concept O O B-Concept O B-Concept B-Concept O\n"
     ]
    }
   ],
   "source": [
    "\n",
    "sentence = train_test_valid_dataset_align[\"test\"][\"inputs\"][5]\n",
    "predictions_labels = [idx2label[idx.item()] for idx in predictions[5]]\n",
    "real_labels =  train_test_valid_dataset_align[\"test\"][\"output\"][5]\n",
    "print(f\"sentence: {' '.join(sentence)}\")\n",
    "print(f\"predictions: {' '.join(predictions_labels)}\")\n",
    "print(f\"real labels: {' '.join(real_labels)}\")\n",
    "\n"
   ]
  },
  {
   "cell_type": "code",
   "execution_count": 30,
   "metadata": {},
   "outputs": [
    {
     "data": {
      "image/png": "[encoded data removed]",
      "text/plain": [
       "<Figure size 1200x1500 with 2 Axes>"
      ]
     },
     "metadata": {},
     "output_type": "display_data"
    }
   ],
   "source": [
    "skplt.metrics.plot_confusion_matrix(true_labels_names, true_predictions_names, figsize=(12,15),x_tick_rotation=45)  \n",
    "plt.show()"
   ]
  },
  {
   "cell_type": "code",
   "execution_count": 31,
   "metadata": {},
   "outputs": [],
   "source": [
    "seqeval = evaluate.load('seqeval')\n",
    "results = seqeval.compute(predictions=[true_predictions_names], references= [true_labels_names])"
   ]
  },
  {
   "cell_type": "code",
   "execution_count": 32,
   "metadata": {},
   "outputs": [
    {
     "data": {
      "text/plain": [
       "{'Action': {'precision': 0.7441860465116279,\n",
       "  'recall': 0.7933884297520661,\n",
       "  'f1': 0.768,\n",
       "  'number': 121},\n",
       " 'Concept': {'precision': 0.8413978494623656,\n",
       "  'recall': 0.845945945945946,\n",
       "  'f1': 0.8436657681940701,\n",
       "  'number': 370},\n",
       " 'Predicate': {'precision': 0.5681818181818182,\n",
       "  'recall': 0.5102040816326531,\n",
       "  'f1': 0.5376344086021506,\n",
       "  'number': 49},\n",
       " 'Reference': {'precision': 1.0,\n",
       "  'recall': 0.6666666666666666,\n",
       "  'f1': 0.8,\n",
       "  'number': 9},\n",
       " 'overall_precision': 0.7985480943738656,\n",
       " 'overall_recall': 0.8014571948998178,\n",
       " 'overall_f1': 0.7999999999999998,\n",
       " 'overall_accuracy': 0.8906685236768802}"
      ]
     },
     "execution_count": 32,
     "metadata": {},
     "output_type": "execute_result"
    }
   ],
   "source": [
    "results"
   ]
  },
  {
   "cell_type": "code",
   "execution_count": 33,
   "metadata": {},
   "outputs": [
    {
     "name": "stdout",
     "output_type": "stream",
     "text": [
      "{'ent_type': {'correct': 457, 'incorrect': 37, 'partial': 0, 'missed': 46, 'spurious': 51, 'possible': 540, 'actual': 545, 'precision': 0.8385321100917431, 'recall': 0.8462962962962963, 'f1': 0.8423963133640554}, 'partial': {'correct': 460, 'incorrect': 0, 'partial': 34, 'missed': 46, 'spurious': 51, 'possible': 540, 'actual': 545, 'precision': 0.8752293577981651, 'recall': 0.8833333333333333, 'f1': 0.87926267281106}, 'strict': {'correct': 434, 'incorrect': 60, 'partial': 0, 'missed': 46, 'spurious': 51, 'possible': 540, 'actual': 545, 'precision': 0.7963302752293578, 'recall': 0.8037037037037037, 'f1': 0.8}, 'exact': {'correct': 460, 'incorrect': 34, 'partial': 0, 'missed': 46, 'spurious': 51, 'possible': 540, 'actual': 545, 'precision': 0.8440366972477065, 'recall': 0.8518518518518519, 'f1': 0.847926267281106}}\n"
     ]
    }
   ],
   "source": [
    "evaluator = Evaluator([true_labels_names], [true_predictions_names], tags= ['Action',\n",
    "                            'Concept',\n",
    "                            'Predicate'],\n",
    "                      loader=\"list\")\n",
    "\n",
    "# Returns overall metrics and metrics for each tag\n",
    "\n",
    "results, results_per_tag = evaluator.evaluate()\n",
    "\n",
    "print(results)\n"
   ]
  },
  {
   "attachments": {},
   "cell_type": "markdown",
   "metadata": {},
   "source": [
    "💡 Para mayor información sobre métricas para modelos NER, te dejo este increíble blog: https://www.davidsbatista.net/blog/2018/05/09/Named_Entity_Evaluation/\n",
    "\n",
    "\n",
    "👆 Modelo implementado https://huggingface.co/PlanTL-GOB-ES/bsc-bio-ehr-es-pharmaconer"
   ]
  },
  {
   "attachments": {},
   "cell_type": "markdown",
   "metadata": {},
   "source": [
    "🚀 El uso de modelos pre-entrenados de lenguaje, especialmente basados en la arquitectura Transformer, es una estrategia muy efectiva para abordar tareas de procesamiento de lenguaje natural (NLP). Con técnicas de finetuning, podemos adaptar estos modelos a nuestros datos específicos y obtener excelentes resultados en tareas como NER.\n",
    "\n",
    "¡Gracias por tu participación!"
   ]
  }
 ],
 "metadata": {
  "kernelspec": {
   "display_name": "BioNER",
   "language": "python",
   "name": "python3"
  },
  "language_info": {
   "codemirror_mode": {
    "name": "ipython",
    "version": 3
   },
   "file_extension": ".py",
   "mimetype": "text/x-python",
   "name": "python",
   "nbconvert_exporter": "python",
   "pygments_lexer": "ipython3",
   "version": "3.8.0"
  },
  "orig_nbformat": 4
 },
 "nbformat": 4,
 "nbformat_minor": 2
}
